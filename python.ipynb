{
 "cells": [
  {
   "cell_type": "code",
   "execution_count": 2,
   "metadata": {},
   "outputs": [
    {
     "name": "stdout",
     "output_type": "stream",
     "text": [
      "input =>5000\n",
      "5\n"
     ]
    }
   ],
   "source": [
    "numbers_list=[10,20,50,100,200,500,1000]\n",
    "count_notes =0\n",
    "input_number=int(input('input =>'))\n",
    "length =len(numbers_list)-1\n",
    "while True:\n",
    "    if numbers_list[length] <=input_number:\n",
    "        input_number =input_number-numbers_list[length]\n",
    "        count_notes = count_notes+1\n",
    "    else:\n",
    "        length =length-1\n",
    "        if input_number==0:\n",
    "                break\n",
    "print(count_notes)"
   ]
  },
  {
   "cell_type": "code",
   "execution_count": 3,
   "metadata": {},
   "outputs": [
    {
     "name": "stdout",
     "output_type": "stream",
     "text": [
      "Enter the amount:345\n",
      "200 1\n",
      "100 1\n",
      "10 4\n",
      "5 1\n"
     ]
    }
   ],
   "source": [
    "n=int(input(\"Enter the amount:\"))\n",
    "if n>=1000:\n",
    "    note1000 = n//1000\n",
    "    print(\"1000\",note1000)\n",
    "    n = n%1000\n",
    "if n>500:\n",
    "    note500 = n//500\n",
    "    print(\"500\",note500)\n",
    "    n = n%500\n",
    "if n>200:\n",
    "    note200 = n//200\n",
    "    print(\"200\",note200)\n",
    "    n = n%200\n",
    "if n>100:\n",
    "    note100 = n//100\n",
    "    print(\"100\",note100)\n",
    "    n = n%100\n",
    "if n>50:\n",
    "    note50 = n//50\n",
    "    print(\"50\",note50)\n",
    "    n = n%50\n",
    "if n>10:\n",
    "    note10 = n//10\n",
    "    print(\"10\",note10)\n",
    "    n = n%10\n",
    "if n>=5:\n",
    "    note5 = n//5\n",
    "    print(\"5\",note5)\n",
    "    n = n%5\n",
    "else:\n",
    "    if(item==\" \"):\n",
    "        check_list = len(n)\n",
    "        if(check_list == ''):\n",
    "            print(\"Sorry but your cart is empty, make a selection\")\n",
    "            n = input()\n",
    "    print(\"Invalid Amount\")\n",
    "    \n",
    "        "
   ]
  },
  {
   "cell_type": "code",
   "execution_count": null,
   "metadata": {},
   "outputs": [],
   "source": []
  }
 ],
 "metadata": {
  "kernelspec": {
   "display_name": "Python 3",
   "language": "python",
   "name": "python3"
  },
  "language_info": {
   "codemirror_mode": {
    "name": "ipython",
    "version": 3
   },
   "file_extension": ".py",
   "mimetype": "text/x-python",
   "name": "python",
   "nbconvert_exporter": "python",
   "pygments_lexer": "ipython3",
   "version": "3.6.5"
  }
 },
 "nbformat": 4,
 "nbformat_minor": 2
}
